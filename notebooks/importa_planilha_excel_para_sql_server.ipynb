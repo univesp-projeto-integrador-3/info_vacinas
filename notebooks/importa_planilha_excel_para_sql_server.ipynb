{
 "cells": [
  {
   "cell_type": "code",
   "execution_count": 2,
   "metadata": {},
   "outputs": [],
   "source": [
    "#!pip install pycep_correios geopy pandas sqlalchemy python-dotenv"
   ]
  },
  {
   "cell_type": "code",
   "execution_count": 3,
   "metadata": {},
   "outputs": [],
   "source": [
    "import os\n",
    "import pandas as pd\n",
    "from sqlalchemy import create_engine\n",
    "\n",
    "from dotenv import load_dotenv\n",
    "load_dotenv()  # take environment variables from .env.\n",
    "# conexão com o banco de dados SQL Server\n",
    "engine = create_engine(\n",
    "  os.environ.get('DATABASE_URL_SQL_SERVER'),\n",
    "  connect_args = {\"TrustServerCertificate\": \"yes\"},\n",
    "  echo=False\n",
    ")\n",
    "\n",
    "# conexão postgres\n",
    "engine_postgres = create_engine(\n",
    "  os.environ.get('DATABASE_URL_SQL_POSTGRES'),\n",
    "  echo=False\n",
    ")\n",
    "\n",
    "# conexão mariadb/mysql\n",
    "engine_mysql = create_engine(\n",
    "  os.environ.get('DATABASE_URL_SQL_MYSQL'),\n",
    "  echo=False\n",
    ")"
   ]
  },
  {
   "cell_type": "code",
   "execution_count": 4,
   "metadata": {},
   "outputs": [
    {
     "data": {
      "text/html": [
       "<div>\n",
       "<style scoped>\n",
       "    .dataframe tbody tr th:only-of-type {\n",
       "        vertical-align: middle;\n",
       "    }\n",
       "\n",
       "    .dataframe tbody tr th {\n",
       "        vertical-align: top;\n",
       "    }\n",
       "\n",
       "    .dataframe thead th {\n",
       "        text-align: right;\n",
       "    }\n",
       "</style>\n",
       "<table border=\"1\" class=\"dataframe\">\n",
       "  <thead>\n",
       "    <tr style=\"text-align: right;\">\n",
       "      <th></th>\n",
       "      <th>UF</th>\n",
       "      <th>MUNICÍPIO</th>\n",
       "      <th>ESTABELECIMENTO</th>\n",
       "      <th>LOGRADOURO</th>\n",
       "      <th>NÚMERO</th>\n",
       "      <th>BAIRRO</th>\n",
       "    </tr>\n",
       "  </thead>\n",
       "  <tbody>\n",
       "    <tr>\n",
       "      <th>0</th>\n",
       "      <td>AC</td>\n",
       "      <td>ACRELANDIA</td>\n",
       "      <td>UNIDADE DE SAUDE DA FAMILIA RICARDO MONTEIRO ROLA</td>\n",
       "      <td>RUA 07 QUEDAS</td>\n",
       "      <td>284</td>\n",
       "      <td>CENTRO</td>\n",
       "    </tr>\n",
       "    <tr>\n",
       "      <th>1</th>\n",
       "      <td>AC</td>\n",
       "      <td>ACRELANDIA</td>\n",
       "      <td>UNIDADE DE SAUDE DA FAMILIA JOAO DANIEL DAMASCENO</td>\n",
       "      <td>BR 364 KM 114</td>\n",
       "      <td>114</td>\n",
       "      <td>ZONA RURAL</td>\n",
       "    </tr>\n",
       "    <tr>\n",
       "      <th>2</th>\n",
       "      <td>AC</td>\n",
       "      <td>ACRELANDIA</td>\n",
       "      <td>UNIDADE MISTA DE SAUDE DE ACRELANDIA</td>\n",
       "      <td>AVENIDA PARANA</td>\n",
       "      <td>346</td>\n",
       "      <td>CENTRO</td>\n",
       "    </tr>\n",
       "    <tr>\n",
       "      <th>3</th>\n",
       "      <td>AC</td>\n",
       "      <td>ACRELANDIA</td>\n",
       "      <td>UNIDADE DE SAUDE DA FAMILIA CICERO BATISTA</td>\n",
       "      <td>BR 364 KM 90 RAMAL GRANADA KM 16</td>\n",
       "      <td>16</td>\n",
       "      <td>ZONA RURAL</td>\n",
       "    </tr>\n",
       "    <tr>\n",
       "      <th>4</th>\n",
       "      <td>AC</td>\n",
       "      <td>ACRELANDIA</td>\n",
       "      <td>UNIDADE DE SAUDE DA FAMILIA REDENCAO</td>\n",
       "      <td>AC 475 VILA REDENCAOI</td>\n",
       "      <td>NaN</td>\n",
       "      <td>ZONA RURAL</td>\n",
       "    </tr>\n",
       "  </tbody>\n",
       "</table>\n",
       "</div>"
      ],
      "text/plain": [
       "   UF   MUNICÍPIO                                    ESTABELECIMENTO  \\\n",
       "0  AC  ACRELANDIA  UNIDADE DE SAUDE DA FAMILIA RICARDO MONTEIRO ROLA   \n",
       "1  AC  ACRELANDIA  UNIDADE DE SAUDE DA FAMILIA JOAO DANIEL DAMASCENO   \n",
       "2  AC  ACRELANDIA               UNIDADE MISTA DE SAUDE DE ACRELANDIA   \n",
       "3  AC  ACRELANDIA         UNIDADE DE SAUDE DA FAMILIA CICERO BATISTA   \n",
       "4  AC  ACRELANDIA               UNIDADE DE SAUDE DA FAMILIA REDENCAO   \n",
       "\n",
       "                         LOGRADOURO NÚMERO      BAIRRO  \n",
       "0                     RUA 07 QUEDAS    284      CENTRO  \n",
       "1                     BR 364 KM 114    114  ZONA RURAL  \n",
       "2                    AVENIDA PARANA    346      CENTRO  \n",
       "3  BR 364 KM 90 RAMAL GRANADA KM 16     16  ZONA RURAL  \n",
       "4             AC 475 VILA REDENCAOI    NaN  ZONA RURAL  "
      ]
     },
     "execution_count": 4,
     "metadata": {},
     "output_type": "execute_result"
    }
   ],
   "source": [
    "#file_path = os.path.join('Postos de Saúde.xlsx')\n",
    "#df = pd.read_excel(file_path, engine='openpyxl')\n",
    "file_path = os.path.join('postos_saude_brasil.csv')\n",
    "df = pd.read_csv(file_path)\n",
    "df.head()"
   ]
  },
  {
   "cell_type": "code",
   "execution_count": 5,
   "metadata": {},
   "outputs": [
    {
     "name": "stdout",
     "output_type": "stream",
     "text": [
      "<class 'pandas.core.frame.DataFrame'>\n",
      "RangeIndex: 46821 entries, 0 to 46820\n",
      "Data columns (total 6 columns):\n",
      " #   Column           Non-Null Count  Dtype \n",
      "---  ------           --------------  ----- \n",
      " 0   UF               46821 non-null  object\n",
      " 1   MUNICIPIO        46821 non-null  object\n",
      " 2   ESTABELECIMENTO  46821 non-null  object\n",
      " 3   LOGRADOURO       46821 non-null  object\n",
      " 4   NUMERO           46815 non-null  object\n",
      " 5   BAIRRO           46821 non-null  object\n",
      "dtypes: object(6)\n",
      "memory usage: 2.1+ MB\n"
     ]
    }
   ],
   "source": [
    "# renomeia as colunas para tirar o acento\n",
    "a_renomear = {\n",
    "    'MUNICÍPIO': 'MUNICIPIO',\n",
    "    'NÚMERO': 'NUMERO'\n",
    "}\n",
    "df.rename(columns=a_renomear, inplace=True)\n",
    "df.info()"
   ]
  },
  {
   "cell_type": "code",
   "execution_count": 6,
   "metadata": {},
   "outputs": [],
   "source": [
    "# salva arquivo CSV para facilitar novas consultas\n",
    "# df.to_csv('postos_saude_brasil.csv', index=False)"
   ]
  },
  {
   "cell_type": "code",
   "execution_count": 8,
   "metadata": {},
   "outputs": [
    {
     "name": "stdout",
     "output_type": "stream",
     "text": [
      "Registros salvos com sucesso\n"
     ]
    }
   ],
   "source": [
    "# importa para a base de dados\n",
    "nome_tabela = 'unidades_vacinacao'\n",
    "df.to_sql(\n",
    "    nome_tabela,\n",
    "    #engine, \n",
    "    #engine_postgres,\n",
    "    engine_mysql,\n",
    "    if_exists='replace',\n",
    "    chunksize=500,\n",
    "    #schema='dbo'\n",
    ")\n",
    "print('Registros salvos com sucesso')"
   ]
  },
  {
   "cell_type": "code",
   "execution_count": null,
   "metadata": {},
   "outputs": [],
   "source": []
  }
 ],
 "metadata": {
  "kernelspec": {
   "display_name": "Python 3.9.12 ('info-vacinas': venv)",
   "language": "python",
   "name": "python3"
  },
  "language_info": {
   "codemirror_mode": {
    "name": "ipython",
    "version": 3
   },
   "file_extension": ".py",
   "mimetype": "text/x-python",
   "name": "python",
   "nbconvert_exporter": "python",
   "pygments_lexer": "ipython3",
   "version": "3.9.12"
  },
  "orig_nbformat": 4,
  "vscode": {
   "interpreter": {
    "hash": "30c9ad9e222f2e99e12dfacdf363067c3c5c3894d57078207f62260f29875fce"
   }
  }
 },
 "nbformat": 4,
 "nbformat_minor": 2
}
