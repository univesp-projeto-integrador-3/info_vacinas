{
 "cells": [
  {
   "cell_type": "code",
   "execution_count": 5,
   "metadata": {},
   "outputs": [
    {
     "name": "stdout",
     "output_type": "stream",
     "text": [
      "This is the name of the script:  /home/rodrigo/anaconda3/lib/python3.9/site-packages/ipykernel_launcher.py\n",
      "Number of arguments:  11\n",
      "The arguments are:  ['/home/rodrigo/anaconda3/lib/python3.9/site-packages/ipykernel_launcher.py', '--ip=127.0.0.1', '--stdin=9013', '--control=9011', '--hb=9010', '--Session.signature_scheme=\"hmac-sha256\"', '--Session.key=b\"f9e5328a-1620-4cf1-a470-d4802321e1cd\"', '--shell=9012', '--transport=\"tcp\"', '--iopub=9014', '--f=/home/rodrigo/.local/share/jupyter/runtime/kernel-v2-2298GMZQp8k3SuVw.json']\n",
      "['AC', 'AL', 'AM', 'AP', 'BA', 'CE', 'DF', 'ES', 'GO', 'MA', 'MG', 'MS', 'MT', 'PA', 'PB', 'PE', 'PI', 'PR', 'RJ', 'RN', 'RO', 'RR', 'RS', 'SC', 'SE', 'SP', 'TO']\n"
     ]
    }
   ],
   "source": [
    "import os\n",
    "import sys\n",
    "\n",
    "import pandas as pd\n",
    "from dotenv import load_dotenv\n",
    "from geopy.extra.rate_limiter import RateLimiter\n",
    "from geopy.geocoders import HereV7, Nominatim, TomTom\n",
    "\n",
    "load_dotenv()  # take environment variables from .env.\n",
    "\n",
    "print(\"This is the name of the script: \", sys.argv[0])\n",
    "print(\"Number of arguments: \", len(sys.argv))\n",
    "print(\"The arguments are: \", str(sys.argv))\n",
    "\n",
    "ufs = ['AC', 'AL', 'AM', 'AP', 'BA', 'CE', 'DF', 'ES', 'GO', 'MA', 'MG',\n",
    "       'MS', 'MT', 'PA', 'PB', 'PE', 'PI', 'PR', 'RJ', 'RN', 'RO', 'RR',\n",
    "       'RS', 'SC', 'SE', 'SP', 'TO']\n",
    "\n",
    "print(ufs)"
   ]
  },
  {
   "cell_type": "code",
   "execution_count": 6,
   "metadata": {},
   "outputs": [
    {
     "name": "stdout",
     "output_type": "stream",
     "text": [
      "Processando 00243 registros\n",
      "   UF   MUNICIPIO                                    ESTABELECIMENTO  \\\n",
      "0  AC  ACRELANDIA  UNIDADE DE SAUDE DA FAMILIA RICARDO MONTEIRO ROLA   \n",
      "1  AC  ACRELANDIA  UNIDADE DE SAUDE DA FAMILIA JOAO DANIEL DAMASCENO   \n",
      "2  AC  ACRELANDIA               UNIDADE MISTA DE SAUDE DE ACRELANDIA   \n",
      "3  AC  ACRELANDIA         UNIDADE DE SAUDE DA FAMILIA CICERO BATISTA   \n",
      "4  AC  ACRELANDIA               UNIDADE DE SAUDE DA FAMILIA REDENCAO   \n",
      "\n",
      "                         LOGRADOURO NUMERO      BAIRRO  \\\n",
      "0                     RUA 07 QUEDAS    284      CENTRO   \n",
      "1                     BR 364 KM 114    114  ZONA RURAL   \n",
      "2                    AVENIDA PARANA    346      CENTRO   \n",
      "3  BR 364 KM 90 RAMAL GRANADA KM 16     16  ZONA RURAL   \n",
      "4             AC 475 VILA REDENCAOI    NaN  ZONA RURAL   \n",
      "\n",
      "                                   ENDERECO_COMPLETO  latitude  longitude  \\\n",
      "0      RUA 07 QUEDAS, CENTRO, ACRELANDIA, AC, BRASIL -10.07561  -67.05003   \n",
      "1  BR 364 KM 114, ZONA RURAL, ACRELANDIA, AC, BRASIL -22.28388  -51.91008   \n",
      "2     AVENIDA PARANA, CENTRO, ACRELANDIA, AC, BRASIL -10.07684  -67.05564   \n",
      "3  BR 364 KM 90 RAMAL GRANADA KM 16, ZONA RURAL, ... -17.34786  -49.93093   \n",
      "4  AC 475 VILA REDENCAOI, ZONA RURAL, ACRELANDIA,... -22.28064  -51.91064   \n",
      "\n",
      "                                             address  \\\n",
      "0                        Rua Sete Quedas, Acrelândia   \n",
      "1  Via de Acesso à Zona Rural, 114, 19260-000, Mi...   \n",
      "2                  Avenida Paraná, 69945, Acrelândia   \n",
      "3   Via de Acesso à Zona Rural, 90, 75940-000, Edéia   \n",
      "4  Via de Acesso à Zona Rural, 475, 19260-000, Mi...   \n",
      "\n",
      "                                point        cep  \n",
      "0     10 4m 32.196s S, 67 3m 0.108s W        NaN  \n",
      "1   22 17m 1.968s S, 51 54m 36.288s W  19260-000  \n",
      "2    10 4m 36.624s S, 67 3m 20.304s W      69945  \n",
      "3  17 20m 52.296s S, 49 55m 51.348s W  75940-000  \n",
      "4  22 16m 50.304s S, 51 54m 38.304s W  19260-000  \n"
     ]
    }
   ],
   "source": [
    "ufs = ['AC', 'AL', 'AM', 'AP', 'BA', 'CE', 'DF', 'ES', 'GO', 'MA', 'MG',\n",
    "       'MS', 'MT', 'PA', 'PB', 'PE', 'PI', 'PR', 'RJ', 'RN', 'RO', 'RR',\n",
    "       'RS', 'SC', 'SE', 'SP', 'TO']\n",
    "       \n",
    "for uf in ufs:\n",
    "    file_path = os.path.join(f'postos_saude_brasil_{uf}.csv')\n",
    "    df = pd.read_csv(file_path)\n",
    "\n",
    "    tamanho = len(df)\n",
    "    print(f'Processando {str(tamanho).zfill(5)} registros')\n",
    "\n",
    "    print(df.head())\n",
    "    break"
   ]
  },
  {
   "cell_type": "code",
   "execution_count": null,
   "metadata": {},
   "outputs": [],
   "source": []
  }
 ],
 "metadata": {
  "kernelspec": {
   "display_name": "Python 3.9.12 ('base')",
   "language": "python",
   "name": "python3"
  },
  "language_info": {
   "codemirror_mode": {
    "name": "ipython",
    "version": 3
   },
   "file_extension": ".py",
   "mimetype": "text/x-python",
   "name": "python",
   "nbconvert_exporter": "python",
   "pygments_lexer": "ipython3",
   "version": "3.9.12"
  },
  "orig_nbformat": 4,
  "vscode": {
   "interpreter": {
    "hash": "3f1fa92065e83bf8b3f9b5096216ce92755ea229f7fd6780b8b3e0f199343520"
   }
  }
 },
 "nbformat": 4,
 "nbformat_minor": 2
}
