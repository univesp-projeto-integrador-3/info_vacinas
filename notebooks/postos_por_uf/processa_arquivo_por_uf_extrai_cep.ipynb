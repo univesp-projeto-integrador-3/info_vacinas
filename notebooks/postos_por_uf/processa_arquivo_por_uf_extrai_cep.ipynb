{
 "cells": [
  {
   "cell_type": "code",
   "execution_count": 1,
   "metadata": {},
   "outputs": [
    {
     "data": {
      "text/plain": [
       "True"
      ]
     },
     "execution_count": 1,
     "metadata": {},
     "output_type": "execute_result"
    }
   ],
   "source": [
    "import os\n",
    "import pandas as pd\n",
    "from pathlib import Path\n",
    "import sys\n",
    "\n",
    "from dotenv import load_dotenv\n",
    "load_dotenv()  # take environment variables from .env."
   ]
  },
  {
   "cell_type": "code",
   "execution_count": 2,
   "metadata": {},
   "outputs": [],
   "source": [
    "# lista com os códigos CNES\n",
    "def get_df_cnes():\n",
    "  # base cnes, para pegar o código CNES da UBS\n",
    "  path_folder_cnes = Path(os.getcwd()).resolve().parents[0]\n",
    "  \n",
    "  file_path = os.path.join(\n",
    "    path_folder_cnes,\n",
    "    'importa_csv_saude',\n",
    "    'cadastro_estabelecimentos_cnes.csv')\n",
    "  \n",
    "  df_cnes = pd.read_csv(file_path, sep=\";\")\n",
    "  df_cnes['NOME'] = df_cnes['NOME'].str.strip().str.upper()\n",
    "  df_cnes['CO_CNES'] = df_cnes['CNES'].fillna(0).astype(int)\n",
    "  df_cnes = df_cnes[['CO_CNES', 'NOME']]\n",
    "  \n",
    "  return df_cnes"
   ]
  },
  {
   "cell_type": "code",
   "execution_count": 3,
   "metadata": {},
   "outputs": [
    {
     "name": "stdout",
     "output_type": "stream",
     "text": [
      "Index(['CO_CNES', 'NOME'], dtype='object')\n",
      "['AC', 'AL', 'AM', 'AP', 'BA', 'CE', 'DF', 'ES', 'GO', 'MA', 'MG', 'MS', 'MT', 'PA', 'PB', 'PE', 'PI', 'PR', 'RJ', 'RN', 'RO', 'RR', 'RS', 'SC', 'SE', 'SP', 'TO']\n",
      "  Processando 00374 registros\n",
      "  Arquivo de saída atualizado com sucesso. postos_saude_brasil_AC.csv\n",
      "  Processando 04915 registros\n",
      "  Arquivo de saída atualizado com sucesso. postos_saude_brasil_AL.csv\n",
      "  Processando 02960 registros\n",
      "  Arquivo de saída atualizado com sucesso. postos_saude_brasil_AM.csv\n",
      "  Processando 00198 registros\n",
      "  Arquivo de saída atualizado com sucesso. postos_saude_brasil_AP.csv\n",
      "  Processando 29465 registros\n",
      "  Arquivo de saída atualizado com sucesso. postos_saude_brasil_BA.csv\n",
      "  Processando 12448 registros\n",
      "  Arquivo de saída atualizado com sucesso. postos_saude_brasil_CE.csv\n",
      "  Processando 00178 registros\n",
      "  Arquivo de saída atualizado com sucesso. postos_saude_brasil_DF.csv\n",
      "  Processando 05239 registros\n",
      "  Arquivo de saída atualizado com sucesso. postos_saude_brasil_ES.csv\n",
      "  Processando 08572 registros\n",
      "  Arquivo de saída atualizado com sucesso. postos_saude_brasil_GO.csv\n",
      "  Processando 09542 registros\n",
      "  Arquivo de saída atualizado com sucesso. postos_saude_brasil_MA.csv\n",
      "  Processando 43659 registros\n",
      "  Arquivo de saída atualizado com sucesso. postos_saude_brasil_MG.csv\n",
      "  Processando 06816 registros\n",
      "  Arquivo de saída atualizado com sucesso. postos_saude_brasil_MS.csv\n",
      "  Processando 07563 registros\n",
      "  Arquivo de saída atualizado com sucesso. postos_saude_brasil_MT.csv\n",
      "  Processando 12747 registros\n",
      "  Arquivo de saída atualizado com sucesso. postos_saude_brasil_PA.csv\n",
      "  Processando 05064 registros\n",
      "  Arquivo de saída atualizado com sucesso. postos_saude_brasil_PB.csv\n",
      "  Processando 15402 registros\n",
      "  Arquivo de saída atualizado com sucesso. postos_saude_brasil_PE.csv\n",
      "  Processando 09958 registros\n",
      "  Arquivo de saída atualizado com sucesso. postos_saude_brasil_PI.csv\n",
      "  Processando 27296 registros\n",
      "  Arquivo de saída atualizado com sucesso. postos_saude_brasil_PR.csv\n",
      "  Processando 16858 registros\n",
      "  Arquivo de saída atualizado com sucesso. postos_saude_brasil_RJ.csv\n",
      "  Processando 15190 registros\n",
      "  Arquivo de saída atualizado com sucesso. postos_saude_brasil_RN.csv\n",
      "  Processando 01208 registros\n",
      "  Arquivo de saída atualizado com sucesso. postos_saude_brasil_RO.csv\n",
      "  Processando 00476 registros\n",
      "  Arquivo de saída atualizado com sucesso. postos_saude_brasil_RR.csv\n",
      "  Processando 35682 registros\n",
      "  Arquivo de saída atualizado com sucesso. postos_saude_brasil_RS.csv\n",
      "  Processando 24846 registros\n",
      "  Arquivo de saída atualizado com sucesso. postos_saude_brasil_SC.csv\n",
      "  Processando 01692 registros\n",
      "  Arquivo de saída atualizado com sucesso. postos_saude_brasil_SE.csv\n",
      "  Processando 33149 registros\n",
      "  Arquivo de saída atualizado com sucesso. postos_saude_brasil_SP.csv\n",
      "  Processando 03164 registros\n",
      "  Arquivo de saída atualizado com sucesso. postos_saude_brasil_TO.csv\n"
     ]
    }
   ],
   "source": [
    "df_cnes = get_df_cnes()\n",
    "print(df_cnes.columns)\n",
    "\n",
    "ufs = ['AC', 'AL', 'AM', 'AP', 'BA', 'CE', 'DF', 'ES', 'GO', 'MA', 'MG',\n",
    "       'MS', 'MT', 'PA', 'PB', 'PE', 'PI', 'PR', 'RJ', 'RN', 'RO', 'RR',\n",
    "       'RS', 'SC', 'SE', 'SP', 'TO']\n",
    "\n",
    "print(ufs)\n",
    "\n",
    "for uf in ufs:\n",
    "    file_path = os.path.join(f'postos_saude_brasil_{uf}.csv')\n",
    "    df = pd.read_csv(file_path)\n",
    "\n",
    "    tamanho = len(df)\n",
    "    print(f'  Processando {str(tamanho).zfill(5)} registros')\n",
    "\n",
    "    # inclui a coluna com o CEP\n",
    "    df['address'] = df['address'].astype(str)\n",
    "    df['cep'] = df['address'].str.extract(r'(\\d{5}\\-?\\d{0,4})')\n",
    "\n",
    "    # inclui a coluna com o código CNES\n",
    "    df = df.merge(\n",
    "      df_cnes, how='left', left_on='ESTABELECIMENTO', right_on='NOME')\n",
    "\n",
    "    if 'CO_CNES_x' in df.columns:\n",
    "      df['CO_CNES'] = df['CO_CNES_x']\n",
    "      del df['CO_CNES_x']\n",
    "    \n",
    "    if 'CO_CNES_y' in df.columns:\n",
    "      del df['CO_CNES_y']\n",
    "    \n",
    "    if 'CO_CNES' in df.columns:\n",
    "      df['CO_CNES'] = df['CO_CNES'].fillna(0).astype(int)\n",
    "\n",
    "\n",
    "    df = df[[\n",
    "      'UF', 'MUNICIPIO', 'ESTABELECIMENTO', 'LOGRADOURO', 'NUMERO', 'BAIRRO',\n",
    "       'ENDERECO_COMPLETO', 'latitude', 'longitude', 'address', 'point', 'cep',\n",
    "       'CO_CNES']]\n",
    "\n",
    "    df.to_csv(file_path, index=False)\n",
    "    print('  Arquivo de saída atualizado com sucesso.', file_path)\n"
   ]
  }
 ],
 "metadata": {
  "kernelspec": {
   "display_name": "Python 3.9.12 ('info-vacinas': venv)",
   "language": "python",
   "name": "python3"
  },
  "language_info": {
   "codemirror_mode": {
    "name": "ipython",
    "version": 3
   },
   "file_extension": ".py",
   "mimetype": "text/x-python",
   "name": "python",
   "nbconvert_exporter": "python",
   "pygments_lexer": "ipython3",
   "version": "3.9.12"
  },
  "orig_nbformat": 4,
  "vscode": {
   "interpreter": {
    "hash": "30c9ad9e222f2e99e12dfacdf363067c3c5c3894d57078207f62260f29875fce"
   }
  }
 },
 "nbformat": 4,
 "nbformat_minor": 2
}
