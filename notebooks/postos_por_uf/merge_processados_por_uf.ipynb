{
 "cells": [
  {
   "cell_type": "code",
   "execution_count": 4,
   "metadata": {},
   "outputs": [],
   "source": [
    "import os\n",
    "import pandas as pd\n",
    "from pathlib import Path"
   ]
  },
  {
   "cell_type": "code",
   "execution_count": 5,
   "metadata": {},
   "outputs": [
    {
     "name": "stdout",
     "output_type": "stream",
     "text": [
      "Index(['UF', 'MUNICIPIO', 'ESTABELECIMENTO', 'LOGRADOURO', 'NUMERO', 'BAIRRO',\n",
      "       'ENDERECO_COMPLETO', 'latitude', 'longitude', 'address', 'point'],\n",
      "      dtype='object')\n"
     ]
    }
   ],
   "source": [
    "file_path = os.path.join('raw', 'postos_saude_brasil_completo_raw.csv')\n",
    "df = pd.read_csv(file_path)\n",
    "df.head()\n",
    "\n",
    "path = Path(os.getcwd())\n",
    "file_path_processado = os.path.join(\n",
    "  path.parent.absolute(), 'postos_saude_brasil.csv'\n",
    ")\n",
    "\n",
    "df_processado = pd.read_csv(file_path_processado)\n",
    "print(df_processado.columns)\n",
    "\n",
    "colunas_saida = [\n",
    "  'UF', 'MUNICIPIO', 'ESTABELECIMENTO', 'LOGRADOURO', 'NUMERO', 'BAIRRO',\n",
    "       'ENDERECO_COMPLETO', 'latitude', 'longitude', 'address', 'point'\n",
    "]\n",
    "\n",
    "# separa por cada UF\n",
    "for uf in df['UF'].unique():\n",
    "  file_path = os.path.join('raw', f'postos_saude_brasil_{uf}_raw.csv')\n",
    "  df_uf = pd.read_csv(file_path)\n",
    "\n",
    "  colunas_chave = [\n",
    "    'UF',\n",
    "    'MUNICIPIO',\n",
    "    'ESTABELECIMENTO',\n",
    "    'LOGRADOURO',\n",
    "    'NUMERO',\n",
    "    'BAIRRO',\n",
    "    'ENDERECO_COMPLETO',\n",
    "  ]\n",
    "  \n",
    "  df_merged = df_uf.merge(df_processado, on=colunas_chave, how='left')\n",
    "\n",
    "  df_merged['latitude'] = df_merged['latitude_y']\n",
    "  df_merged['longitude'] = df_merged['longitude_y']\n",
    "  df_merged['address'] = df_merged['address_y']\n",
    "  df_merged['point'] = df_merged['point_y']\n",
    "\n",
    "  df_merged = df_merged[colunas_saida]\n",
    "  #df_merged.to_csv(os.path.join(f'postos_saude_brasil_{uf}.csv'), index=False)"
   ]
  },
  {
   "cell_type": "code",
   "execution_count": null,
   "metadata": {},
   "outputs": [],
   "source": []
  }
 ],
 "metadata": {
  "kernelspec": {
   "display_name": "Python 3.9.12 ('info-vacinas': venv)",
   "language": "python",
   "name": "python3"
  },
  "language_info": {
   "codemirror_mode": {
    "name": "ipython",
    "version": 3
   },
   "file_extension": ".py",
   "mimetype": "text/x-python",
   "name": "python",
   "nbconvert_exporter": "python",
   "pygments_lexer": "ipython3",
   "version": "3.9.12"
  },
  "orig_nbformat": 4,
  "vscode": {
   "interpreter": {
    "hash": "30c9ad9e222f2e99e12dfacdf363067c3c5c3894d57078207f62260f29875fce"
   }
  }
 },
 "nbformat": 4,
 "nbformat_minor": 2
}
