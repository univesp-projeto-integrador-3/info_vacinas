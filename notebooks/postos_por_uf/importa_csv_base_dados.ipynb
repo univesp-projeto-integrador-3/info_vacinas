{
 "cells": [
  {
   "cell_type": "code",
   "execution_count": 1,
   "id": "included-pharmacology",
   "metadata": {},
   "outputs": [
    {
     "data": {
      "text/plain": [
       "True"
      ]
     },
     "execution_count": 1,
     "metadata": {},
     "output_type": "execute_result"
    }
   ],
   "source": [
    "import pandas as pd\n",
    "import os\n",
    "import sqlalchemy\n",
    "from dotenv import load_dotenv\n",
    "load_dotenv()"
   ]
  },
  {
   "cell_type": "code",
   "execution_count": 2,
   "id": "dying-bridges",
   "metadata": {},
   "outputs": [
    {
     "name": "stdout",
     "output_type": "stream",
     "text": [
      "<class 'pandas.core.frame.DataFrame'>\n",
      "RangeIndex: 45683 entries, 0 to 45682\n",
      "Data columns (total 13 columns):\n",
      " #   Column             Non-Null Count  Dtype  \n",
      "---  ------             --------------  -----  \n",
      " 0   CO_CNES            45683 non-null  int64  \n",
      " 1   NOME               45683 non-null  object \n",
      " 2   LOGRADOURO         45683 non-null  object \n",
      " 3   NUMERO             45677 non-null  object \n",
      " 4   BAIRRO             45683 non-null  object \n",
      " 5   MUNICIPIO          45683 non-null  object \n",
      " 6   UF                 45683 non-null  object \n",
      " 7   CEP                35731 non-null  object \n",
      " 8   ENDERECO_COMPLETO  45683 non-null  object \n",
      " 9   LATITUDE           45622 non-null  float64\n",
      " 10  LONGITUDE          45622 non-null  float64\n",
      " 11  ENDERECO_API       45622 non-null  object \n",
      " 12  POINT              45622 non-null  object \n",
      "dtypes: float64(2), int64(1), object(10)\n",
      "memory usage: 4.5+ MB\n"
     ]
    }
   ],
   "source": [
    "file_path = 'postos_saude_brasil_completo.csv'\n",
    "df = pd.read_csv(file_path)\n",
    "df.info()"
   ]
  },
  {
   "cell_type": "code",
   "execution_count": 3,
   "id": "dominican-newsletter",
   "metadata": {},
   "outputs": [
    {
     "data": {
      "text/html": [
       "<div>\n",
       "<style scoped>\n",
       "    .dataframe tbody tr th:only-of-type {\n",
       "        vertical-align: middle;\n",
       "    }\n",
       "\n",
       "    .dataframe tbody tr th {\n",
       "        vertical-align: top;\n",
       "    }\n",
       "\n",
       "    .dataframe thead th {\n",
       "        text-align: right;\n",
       "    }\n",
       "</style>\n",
       "<table border=\"1\" class=\"dataframe\">\n",
       "  <thead>\n",
       "    <tr style=\"text-align: right;\">\n",
       "      <th></th>\n",
       "      <th>CO_CNES</th>\n",
       "      <th>NOME</th>\n",
       "      <th>LOGRADOURO</th>\n",
       "      <th>NUMERO</th>\n",
       "      <th>BAIRRO</th>\n",
       "      <th>MUNICIPIO</th>\n",
       "      <th>UF</th>\n",
       "      <th>CEP</th>\n",
       "      <th>ENDERECO_COMPLETO</th>\n",
       "      <th>LATITUDE</th>\n",
       "      <th>LONGITUDE</th>\n",
       "      <th>ENDERECO_API</th>\n",
       "      <th>POINT</th>\n",
       "    </tr>\n",
       "  </thead>\n",
       "  <tbody>\n",
       "    <tr>\n",
       "      <th>0</th>\n",
       "      <td>3393984</td>\n",
       "      <td>UNIDADE DE SAUDE DA FAMILIA RICARDO MONTEIRO ROLA</td>\n",
       "      <td>RUA 07 QUEDAS</td>\n",
       "      <td>284</td>\n",
       "      <td>CENTRO</td>\n",
       "      <td>ACRELANDIA</td>\n",
       "      <td>AC</td>\n",
       "      <td>NaN</td>\n",
       "      <td>RUA 07 QUEDAS, CENTRO, ACRELANDIA, AC, BRASIL</td>\n",
       "      <td>-10.07561</td>\n",
       "      <td>-67.05003</td>\n",
       "      <td>Rua Sete Quedas, Acrelândia</td>\n",
       "      <td>10 4m 32.196s S, 67 3m 0.108s W</td>\n",
       "    </tr>\n",
       "    <tr>\n",
       "      <th>1</th>\n",
       "      <td>3638685</td>\n",
       "      <td>UNIDADE DE SAUDE DA FAMILIA JOAO DANIEL DAMASCENO</td>\n",
       "      <td>BR 364 KM 114</td>\n",
       "      <td>114</td>\n",
       "      <td>ZONA RURAL</td>\n",
       "      <td>ACRELANDIA</td>\n",
       "      <td>AC</td>\n",
       "      <td>19260-000</td>\n",
       "      <td>BR 364 KM 114, ZONA RURAL, ACRELANDIA, AC, BRASIL</td>\n",
       "      <td>-22.28388</td>\n",
       "      <td>-51.91008</td>\n",
       "      <td>Via de Acesso à Zona Rural, 114, 19260-000, Mi...</td>\n",
       "      <td>22 17m 1.968s S, 51 54m 36.288s W</td>\n",
       "    </tr>\n",
       "    <tr>\n",
       "      <th>2</th>\n",
       "      <td>0</td>\n",
       "      <td>UNIDADE MISTA DE SAUDE DE ACRELANDIA</td>\n",
       "      <td>AVENIDA PARANA</td>\n",
       "      <td>346</td>\n",
       "      <td>CENTRO</td>\n",
       "      <td>ACRELANDIA</td>\n",
       "      <td>AC</td>\n",
       "      <td>69945</td>\n",
       "      <td>AVENIDA PARANA, CENTRO, ACRELANDIA, AC, BRASIL</td>\n",
       "      <td>-10.07684</td>\n",
       "      <td>-67.05564</td>\n",
       "      <td>Avenida Paraná, 69945, Acrelândia</td>\n",
       "      <td>10 4m 36.624s S, 67 3m 20.304s W</td>\n",
       "    </tr>\n",
       "    <tr>\n",
       "      <th>3</th>\n",
       "      <td>3382745</td>\n",
       "      <td>UNIDADE DE SAUDE DA FAMILIA CICERO BATISTA</td>\n",
       "      <td>BR 364 KM 90 RAMAL GRANADA KM 16</td>\n",
       "      <td>16</td>\n",
       "      <td>ZONA RURAL</td>\n",
       "      <td>ACRELANDIA</td>\n",
       "      <td>AC</td>\n",
       "      <td>75940-000</td>\n",
       "      <td>BR 364 KM 90 RAMAL GRANADA KM 16, ZONA RURAL, ...</td>\n",
       "      <td>-17.34786</td>\n",
       "      <td>-49.93093</td>\n",
       "      <td>Via de Acesso à Zona Rural, 90, 75940-000, Edéia</td>\n",
       "      <td>17 20m 52.296s S, 49 55m 51.348s W</td>\n",
       "    </tr>\n",
       "    <tr>\n",
       "      <th>4</th>\n",
       "      <td>5403669</td>\n",
       "      <td>UNIDADE DE SAUDE DA FAMILIA REDENCAO</td>\n",
       "      <td>AC 475 VILA REDENCAOI</td>\n",
       "      <td>NaN</td>\n",
       "      <td>ZONA RURAL</td>\n",
       "      <td>ACRELANDIA</td>\n",
       "      <td>AC</td>\n",
       "      <td>19260-000</td>\n",
       "      <td>AC 475 VILA REDENCAOI, ZONA RURAL, ACRELANDIA,...</td>\n",
       "      <td>-22.28064</td>\n",
       "      <td>-51.91064</td>\n",
       "      <td>Via de Acesso à Zona Rural, 475, 19260-000, Mi...</td>\n",
       "      <td>22 16m 50.304s S, 51 54m 38.304s W</td>\n",
       "    </tr>\n",
       "  </tbody>\n",
       "</table>\n",
       "</div>"
      ],
      "text/plain": [
       "   CO_CNES                                               NOME  \\\n",
       "0  3393984  UNIDADE DE SAUDE DA FAMILIA RICARDO MONTEIRO ROLA   \n",
       "1  3638685  UNIDADE DE SAUDE DA FAMILIA JOAO DANIEL DAMASCENO   \n",
       "2        0               UNIDADE MISTA DE SAUDE DE ACRELANDIA   \n",
       "3  3382745         UNIDADE DE SAUDE DA FAMILIA CICERO BATISTA   \n",
       "4  5403669               UNIDADE DE SAUDE DA FAMILIA REDENCAO   \n",
       "\n",
       "                         LOGRADOURO NUMERO      BAIRRO   MUNICIPIO  UF  \\\n",
       "0                     RUA 07 QUEDAS    284      CENTRO  ACRELANDIA  AC   \n",
       "1                     BR 364 KM 114    114  ZONA RURAL  ACRELANDIA  AC   \n",
       "2                    AVENIDA PARANA    346      CENTRO  ACRELANDIA  AC   \n",
       "3  BR 364 KM 90 RAMAL GRANADA KM 16     16  ZONA RURAL  ACRELANDIA  AC   \n",
       "4             AC 475 VILA REDENCAOI    NaN  ZONA RURAL  ACRELANDIA  AC   \n",
       "\n",
       "         CEP                                  ENDERECO_COMPLETO  LATITUDE  \\\n",
       "0        NaN      RUA 07 QUEDAS, CENTRO, ACRELANDIA, AC, BRASIL -10.07561   \n",
       "1  19260-000  BR 364 KM 114, ZONA RURAL, ACRELANDIA, AC, BRASIL -22.28388   \n",
       "2      69945     AVENIDA PARANA, CENTRO, ACRELANDIA, AC, BRASIL -10.07684   \n",
       "3  75940-000  BR 364 KM 90 RAMAL GRANADA KM 16, ZONA RURAL, ... -17.34786   \n",
       "4  19260-000  AC 475 VILA REDENCAOI, ZONA RURAL, ACRELANDIA,... -22.28064   \n",
       "\n",
       "   LONGITUDE                                       ENDERECO_API  \\\n",
       "0  -67.05003                        Rua Sete Quedas, Acrelândia   \n",
       "1  -51.91008  Via de Acesso à Zona Rural, 114, 19260-000, Mi...   \n",
       "2  -67.05564                  Avenida Paraná, 69945, Acrelândia   \n",
       "3  -49.93093   Via de Acesso à Zona Rural, 90, 75940-000, Edéia   \n",
       "4  -51.91064  Via de Acesso à Zona Rural, 475, 19260-000, Mi...   \n",
       "\n",
       "                                POINT  \n",
       "0     10 4m 32.196s S, 67 3m 0.108s W  \n",
       "1   22 17m 1.968s S, 51 54m 36.288s W  \n",
       "2    10 4m 36.624s S, 67 3m 20.304s W  \n",
       "3  17 20m 52.296s S, 49 55m 51.348s W  \n",
       "4  22 16m 50.304s S, 51 54m 38.304s W  "
      ]
     },
     "execution_count": 3,
     "metadata": {},
     "output_type": "execute_result"
    }
   ],
   "source": [
    "df.head()"
   ]
  },
  {
   "cell_type": "code",
   "execution_count": 4,
   "id": "interpreted-oasis",
   "metadata": {},
   "outputs": [],
   "source": [
    "engine = sqlalchemy.create_engine(\n",
    "    os.environ.get('DATABASE_URL_SQL_SERVER'),\n",
    "    connect_args = {\n",
    "        \"TrustServerCertificate\": \"yes\"\n",
    "    }, echo=False)\n",
    "\n",
    "df.to_sql('postos_saude_brasil_completo', engine, if_exists='replace', chunksize=500, schema='dbo')\n",
    "print('Registros salvos com sucesso')"
   ]
  },
  {
   "cell_type": "code",
   "execution_count": null,
   "id": "ac0b0ae4",
   "metadata": {},
   "outputs": [],
   "source": [
    "engine = sqlalchemy.create_engine(\n",
    "    os.environ.get('DATABASE_URL_SQL_POSTGRES'),\n",
    "    echo=False)\n",
    "\n",
    "df.to_sql(\n",
    "    'postos_saude_brasil_completo', engine, if_exists='replace', chunksize=500)\n",
    "print('Registros salvos com sucesso')"
   ]
  }
 ],
 "metadata": {
  "kernelspec": {
   "display_name": "Python 3.9.12 ('base')",
   "language": "python",
   "name": "python3"
  },
  "language_info": {
   "codemirror_mode": {
    "name": "ipython",
    "version": 3
   },
   "file_extension": ".py",
   "mimetype": "text/x-python",
   "name": "python",
   "nbconvert_exporter": "python",
   "pygments_lexer": "ipython3",
   "version": "3.9.12"
  },
  "vscode": {
   "interpreter": {
    "hash": "3f1fa92065e83bf8b3f9b5096216ce92755ea229f7fd6780b8b3e0f199343520"
   }
  }
 },
 "nbformat": 4,
 "nbformat_minor": 5
}
