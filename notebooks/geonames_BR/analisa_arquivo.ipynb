{
 "cells": [
  {
   "cell_type": "code",
   "execution_count": 5,
   "metadata": {},
   "outputs": [],
   "source": [
    "# GeoNames\n",
    "# The GeoNames geographical database covers all countries and contains over \n",
    "# eleven million placenames that are available for download free of charge.\n",
    "import pandas as pd"
   ]
  },
  {
   "cell_type": "code",
   "execution_count": 4,
   "metadata": {},
   "outputs": [
    {
     "name": "stdout",
     "output_type": "stream",
     "text": [
      "Index(['BR\\t69945-000\\tAcrelândia\\tAcre\\t01\\t\\t1200013\\t\\t\\t-9.9805\\t-66.8439\\t2'], dtype='object')\n"
     ]
    },
    {
     "data": {
      "text/html": [
       "<div>\n",
       "<style scoped>\n",
       "    .dataframe tbody tr th:only-of-type {\n",
       "        vertical-align: middle;\n",
       "    }\n",
       "\n",
       "    .dataframe tbody tr th {\n",
       "        vertical-align: top;\n",
       "    }\n",
       "\n",
       "    .dataframe thead th {\n",
       "        text-align: right;\n",
       "    }\n",
       "</style>\n",
       "<table border=\"1\" class=\"dataframe\">\n",
       "  <thead>\n",
       "    <tr style=\"text-align: right;\">\n",
       "      <th></th>\n",
       "      <th>BR\\t69945-000\\tAcrelândia\\tAcre\\t01\\t\\t1200013\\t\\t\\t-9.9805\\t-66.8439\\t2</th>\n",
       "    </tr>\n",
       "  </thead>\n",
       "  <tbody>\n",
       "    <tr>\n",
       "      <th>0</th>\n",
       "      <td>BR\\t69935-000\\tAssis Brasil\\tAcre\\t01\\t\\t12000...</td>\n",
       "    </tr>\n",
       "    <tr>\n",
       "      <th>1</th>\n",
       "      <td>BR\\t69932-000\\tBrasiléia\\tAcre\\t01\\t\\t1200104\\...</td>\n",
       "    </tr>\n",
       "    <tr>\n",
       "      <th>2</th>\n",
       "      <td>BR\\t69923-000\\tBujari\\tAcre\\t01\\t\\t1200138\\t\\t...</td>\n",
       "    </tr>\n",
       "    <tr>\n",
       "      <th>3</th>\n",
       "      <td>BR\\t69922-000\\tCapixaba\\tAcre\\t01\\t\\t1200179\\t...</td>\n",
       "    </tr>\n",
       "    <tr>\n",
       "      <th>4</th>\n",
       "      <td>BR\\t69980-000\\tCruzeiro do Sul\\tAcre\\t01\\t\\t12...</td>\n",
       "    </tr>\n",
       "  </tbody>\n",
       "</table>\n",
       "</div>"
      ],
      "text/plain": [
       "  BR\\t69945-000\\tAcrelândia\\tAcre\\t01\\t\\t1200013\\t\\t\\t-9.9805\\t-66.8439\\t2\n",
       "0  BR\\t69935-000\\tAssis Brasil\\tAcre\\t01\\t\\t12000...                      \n",
       "1  BR\\t69932-000\\tBrasiléia\\tAcre\\t01\\t\\t1200104\\...                      \n",
       "2  BR\\t69923-000\\tBujari\\tAcre\\t01\\t\\t1200138\\t\\t...                      \n",
       "3  BR\\t69922-000\\tCapixaba\\tAcre\\t01\\t\\t1200179\\t...                      \n",
       "4  BR\\t69980-000\\tCruzeiro do Sul\\tAcre\\t01\\t\\t12...                      "
      ]
     },
     "execution_count": 4,
     "metadata": {},
     "output_type": "execute_result"
    }
   ],
   "source": [
    "file_path = 'BR.txt'\n",
    "df = pd.read_csv(file_path, sep=';', low_memory=False)\n",
    "print(df.columns)\n",
    "df.head()"
   ]
  },
  {
   "cell_type": "code",
   "execution_count": null,
   "metadata": {},
   "outputs": [],
   "source": []
  }
 ],
 "metadata": {
  "kernelspec": {
   "display_name": "Python 3.9.12 ('base')",
   "language": "python",
   "name": "python3"
  },
  "language_info": {
   "codemirror_mode": {
    "name": "ipython",
    "version": 3
   },
   "file_extension": ".py",
   "mimetype": "text/x-python",
   "name": "python",
   "nbconvert_exporter": "python",
   "pygments_lexer": "ipython3",
   "version": "3.9.12"
  },
  "orig_nbformat": 4,
  "vscode": {
   "interpreter": {
    "hash": "3f1fa92065e83bf8b3f9b5096216ce92755ea229f7fd6780b8b3e0f199343520"
   }
  }
 },
 "nbformat": 4,
 "nbformat_minor": 2
}
